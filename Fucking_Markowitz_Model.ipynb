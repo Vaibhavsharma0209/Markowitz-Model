{
  "nbformat": 4,
  "nbformat_minor": 0,
  "metadata": {
    "kernelspec": {
      "display_name": "Python 3",
      "language": "python",
      "name": "python3"
    },
    "language_info": {
      "codemirror_mode": {
        "name": "ipython",
        "version": 3
      },
      "file_extension": ".py",
      "mimetype": "text/x-python",
      "name": "python",
      "nbconvert_exporter": "python",
      "pygments_lexer": "ipython3",
      "version": "3.7.6"
    },
    "colab": {
      "name": "Fucking Markowitz Model.ipynb",
      "provenance": [],
      "include_colab_link": true
    }
  },
  "cells": [
    {
      "cell_type": "markdown",
      "metadata": {
        "id": "view-in-github",
        "colab_type": "text"
      },
      "source": [
        "<a href=\"https://colab.research.google.com/github/Vaibhavsharma0209/Markowitz-Model/blob/master/Fucking_Markowitz_Model.ipynb\" target=\"_parent\"><img src=\"https://colab.research.google.com/assets/colab-badge.svg\" alt=\"Open In Colab\"/></a>"
      ]
    },
    {
      "cell_type": "code",
      "metadata": {
        "id": "mX0WEH0mGE9G",
        "colab_type": "code",
        "colab": {}
      },
      "source": [
        "import pandas as pd\n",
        "import quandl as q\n",
        "from datetime import datetime\n",
        "from pandas_datareader.data import DataReader\n",
        "import matplotlib.pyplot as plt\n",
        "import numpy as np\n",
        "import seaborn as sns"
      ],
      "execution_count": 0,
      "outputs": []
    },
    {
      "cell_type": "code",
      "metadata": {
        "id": "ESHsODCPGE9T",
        "colab_type": "code",
        "colab": {}
      },
      "source": [
        "start = datetime(2018,1,1)\n",
        "end = datetime(2020,3,3)"
      ],
      "execution_count": 0,
      "outputs": []
    },
    {
      "cell_type": "code",
      "metadata": {
        "id": "YkJUqJg8GE9b",
        "colab_type": "code",
        "colab": {}
      },
      "source": [
        "amd = DataReader('AMD', 'yahoo', start, end)\n",
        "nvidia = DataReader('NVDA', 'yahoo', start, end)\n",
        "tesla = DataReader('TSLA', 'yahoo', start, end)\n",
        "google = DataReader('GOOG', 'yahoo', start, end)"
      ],
      "execution_count": 0,
      "outputs": []
    },
    {
      "cell_type": "code",
      "metadata": {
        "id": "hpVJumqnGE9i",
        "colab_type": "code",
        "colab": {},
        "outputId": "80739c8d-2a13-4bfa-90fb-d27d63b276cc"
      },
      "source": [
        "print(amd.head())\n",
        "columns_name = 'High Low Open Close Volume'\n",
        "column = columns_name.split()"
      ],
      "execution_count": 0,
      "outputs": [
        {
          "output_type": "stream",
          "text": [
            "             High    Low   Open  Close     Volume  Adj Close\n",
            "Date                                                        \n",
            "2018-01-02  11.02  10.34  10.42  10.98   44146300      10.98\n",
            "2018-01-03  12.14  11.36  11.61  11.55  154066700      11.55\n",
            "2018-01-04  12.43  11.97  12.10  12.12  109503000      12.12\n",
            "2018-01-05  12.22  11.66  12.19  11.88   63808900      11.88\n",
            "2018-01-08  12.30  11.85  12.01  12.28   63346000      12.28\n"
          ],
          "name": "stdout"
        }
      ]
    },
    {
      "cell_type": "code",
      "metadata": {
        "id": "7fZkeM6NGE9s",
        "colab_type": "code",
        "colab": {}
      },
      "source": [
        "for stock in (amd, nvidia, tesla, google):\n",
        "    stock['norm returns'] = stock['Adj Close'] / stock.iloc[0]['Adj Close']\n",
        "    stock.drop(columns = column, inplace = True)"
      ],
      "execution_count": 0,
      "outputs": []
    },
    {
      "cell_type": "code",
      "metadata": {
        "id": "-6ZsE0EjGE9y",
        "colab_type": "code",
        "colab": {},
        "outputId": "9cba2e25-7d2b-4685-88ed-ec7044b251e9"
      },
      "source": [
        "amd.tail()"
      ],
      "execution_count": 0,
      "outputs": [
        {
          "output_type": "execute_result",
          "data": {
            "text/html": [
              "<div>\n",
              "<style scoped>\n",
              "    .dataframe tbody tr th:only-of-type {\n",
              "        vertical-align: middle;\n",
              "    }\n",
              "\n",
              "    .dataframe tbody tr th {\n",
              "        vertical-align: top;\n",
              "    }\n",
              "\n",
              "    .dataframe thead th {\n",
              "        text-align: right;\n",
              "    }\n",
              "</style>\n",
              "<table border=\"1\" class=\"dataframe\">\n",
              "  <thead>\n",
              "    <tr style=\"text-align: right;\">\n",
              "      <th></th>\n",
              "      <th>Adj Close</th>\n",
              "      <th>norm returns</th>\n",
              "    </tr>\n",
              "    <tr>\n",
              "      <th>Date</th>\n",
              "      <th></th>\n",
              "      <th></th>\n",
              "    </tr>\n",
              "  </thead>\n",
              "  <tbody>\n",
              "    <tr>\n",
              "      <th>2020-02-26</th>\n",
              "      <td>47.490002</td>\n",
              "      <td>4.325137</td>\n",
              "    </tr>\n",
              "    <tr>\n",
              "      <th>2020-02-27</th>\n",
              "      <td>44.009998</td>\n",
              "      <td>4.008197</td>\n",
              "    </tr>\n",
              "    <tr>\n",
              "      <th>2020-02-28</th>\n",
              "      <td>45.480000</td>\n",
              "      <td>4.142077</td>\n",
              "    </tr>\n",
              "    <tr>\n",
              "      <th>2020-03-02</th>\n",
              "      <td>47.459999</td>\n",
              "      <td>4.322404</td>\n",
              "    </tr>\n",
              "    <tr>\n",
              "      <th>2020-03-03</th>\n",
              "      <td>46.750000</td>\n",
              "      <td>4.257742</td>\n",
              "    </tr>\n",
              "  </tbody>\n",
              "</table>\n",
              "</div>"
            ],
            "text/plain": [
              "            Adj Close  norm returns\n",
              "Date                               \n",
              "2020-02-26  47.490002      4.325137\n",
              "2020-02-27  44.009998      4.008197\n",
              "2020-02-28  45.480000      4.142077\n",
              "2020-03-02  47.459999      4.322404\n",
              "2020-03-03  46.750000      4.257742"
            ]
          },
          "metadata": {
            "tags": []
          },
          "execution_count": 11
        }
      ]
    },
    {
      "cell_type": "code",
      "metadata": {
        "id": "Qi0KKOpIGE97",
        "colab_type": "code",
        "colab": {}
      },
      "source": [
        "Adj_close = pd.concat([amd['Adj Close'], nvidia['Adj Close'], tesla['Adj Close'], google['Adj Close']], axis = 1)"
      ],
      "execution_count": 0,
      "outputs": []
    },
    {
      "cell_type": "code",
      "metadata": {
        "id": "U80bGXsBGE-B",
        "colab_type": "code",
        "colab": {}
      },
      "source": [
        "Adj_close.columns = ('Amd Adj close', 'Nvidia Adj close', 'Tesla Adj close', 'Google Adj close')"
      ],
      "execution_count": 0,
      "outputs": []
    },
    {
      "cell_type": "code",
      "metadata": {
        "id": "66Q89s7KGE-G",
        "colab_type": "code",
        "colab": {},
        "outputId": "ef402cf6-458e-4efd-ddda-23987ed96146"
      },
      "source": [
        "Adj_close.head()"
      ],
      "execution_count": 0,
      "outputs": [
        {
          "output_type": "execute_result",
          "data": {
            "text/html": [
              "<div>\n",
              "<style scoped>\n",
              "    .dataframe tbody tr th:only-of-type {\n",
              "        vertical-align: middle;\n",
              "    }\n",
              "\n",
              "    .dataframe tbody tr th {\n",
              "        vertical-align: top;\n",
              "    }\n",
              "\n",
              "    .dataframe thead th {\n",
              "        text-align: right;\n",
              "    }\n",
              "</style>\n",
              "<table border=\"1\" class=\"dataframe\">\n",
              "  <thead>\n",
              "    <tr style=\"text-align: right;\">\n",
              "      <th></th>\n",
              "      <th>Amd Adj close</th>\n",
              "      <th>Nvidia Adj close</th>\n",
              "      <th>Tesla Adj close</th>\n",
              "      <th>Google Adj close</th>\n",
              "    </tr>\n",
              "    <tr>\n",
              "      <th>Date</th>\n",
              "      <th></th>\n",
              "      <th></th>\n",
              "      <th></th>\n",
              "      <th></th>\n",
              "    </tr>\n",
              "  </thead>\n",
              "  <tbody>\n",
              "    <tr>\n",
              "      <th>2018-01-02</th>\n",
              "      <td>10.98</td>\n",
              "      <td>197.903580</td>\n",
              "      <td>320.529999</td>\n",
              "      <td>1065.000000</td>\n",
              "    </tr>\n",
              "    <tr>\n",
              "      <th>2018-01-03</th>\n",
              "      <td>11.55</td>\n",
              "      <td>210.928375</td>\n",
              "      <td>317.250000</td>\n",
              "      <td>1082.479980</td>\n",
              "    </tr>\n",
              "    <tr>\n",
              "      <th>2018-01-04</th>\n",
              "      <td>12.12</td>\n",
              "      <td>212.040237</td>\n",
              "      <td>314.619995</td>\n",
              "      <td>1086.400024</td>\n",
              "    </tr>\n",
              "    <tr>\n",
              "      <th>2018-01-05</th>\n",
              "      <td>11.88</td>\n",
              "      <td>213.837097</td>\n",
              "      <td>316.579987</td>\n",
              "      <td>1102.229980</td>\n",
              "    </tr>\n",
              "    <tr>\n",
              "      <th>2018-01-08</th>\n",
              "      <td>12.28</td>\n",
              "      <td>220.389221</td>\n",
              "      <td>336.410004</td>\n",
              "      <td>1106.939941</td>\n",
              "    </tr>\n",
              "  </tbody>\n",
              "</table>\n",
              "</div>"
            ],
            "text/plain": [
              "            Amd Adj close  Nvidia Adj close  Tesla Adj close  Google Adj close\n",
              "Date                                                                          \n",
              "2018-01-02          10.98        197.903580       320.529999       1065.000000\n",
              "2018-01-03          11.55        210.928375       317.250000       1082.479980\n",
              "2018-01-04          12.12        212.040237       314.619995       1086.400024\n",
              "2018-01-05          11.88        213.837097       316.579987       1102.229980\n",
              "2018-01-08          12.28        220.389221       336.410004       1106.939941"
            ]
          },
          "metadata": {
            "tags": []
          },
          "execution_count": 14
        }
      ]
    },
    {
      "cell_type": "code",
      "metadata": {
        "id": "Ya0gCrj9GE-L",
        "colab_type": "code",
        "colab": {},
        "outputId": "345989d5-dc61-4514-f8f0-8e0dd613f2f0"
      },
      "source": [
        "Adj_close_log = np.log(Adj_close / Adj_close.shift(1))\n",
        "print(Adj_close_log)"
      ],
      "execution_count": 0,
      "outputs": [
        {
          "output_type": "stream",
          "text": [
            "            Amd Adj close  Nvidia Adj close  Tesla Adj close  Google Adj close\n",
            "Date                                                                          \n",
            "2018-01-02            NaN               NaN              NaN               NaN\n",
            "2018-01-03       0.050610          0.063739        -0.010286          0.016280\n",
            "2018-01-04       0.048172          0.005257        -0.008325          0.003615\n",
            "2018-01-05      -0.020001          0.008438         0.006210          0.014466\n",
            "2018-01-08       0.033116          0.030181         0.060755          0.004264\n",
            "...                   ...               ...              ...               ...\n",
            "2020-02-26      -0.001683          0.021145        -0.026745          0.003401\n",
            "2020-02-27      -0.076102         -0.057275        -0.137133         -0.055405\n",
            "2020-02-28       0.032856          0.066874        -0.016348          0.015986\n",
            "2020-03-02       0.042615          0.023276         0.107257          0.036494\n",
            "2020-03-03      -0.015073         -0.038875         0.002538         -0.034957\n",
            "\n",
            "[545 rows x 4 columns]\n"
          ],
          "name": "stdout"
        }
      ]
    },
    {
      "cell_type": "code",
      "metadata": {
        "id": "FOFgMNH2GE-R",
        "colab_type": "code",
        "colab": {},
        "outputId": "936e8613-8cd7-4ee6-d391-056215865920"
      },
      "source": [
        "print(Adj_close_log.mean()* 252)\n",
        "print(f'\\n{Adj_close_log.std()* 252}')"
      ],
      "execution_count": 0,
      "outputs": [
        {
          "output_type": "stream",
          "text": [
            "Amd Adj close       0.671107\n",
            "Nvidia Adj close    0.136795\n",
            "Tesla Adj close     0.391014\n",
            "Google Adj close    0.106883\n",
            "dtype: float64\n",
            "\n",
            "Amd Adj close       9.129653\n",
            "Nvidia Adj close    7.324070\n",
            "Tesla Adj close     9.341011\n",
            "Google Adj close    4.205861\n",
            "dtype: float64\n"
          ],
          "name": "stdout"
        }
      ]
    },
    {
      "cell_type": "code",
      "metadata": {
        "id": "dGADGBC8GE-W",
        "colab_type": "code",
        "colab": {},
        "outputId": "fe383eeb-6dc8-4902-dbca-5f9c7e57220d"
      },
      "source": [
        "#weights\n",
        "np.random.seed(42)\n",
        "weights = np.array(np.random.random(4))\n",
        "weights = weights/np.sum(weights)\n",
        "print(f'Weights : {weights}')\n",
        "\n",
        "#Expected Returns\n",
        "Ep = np.sum((Adj_close_log.mean() * weights) * 252)\n",
        "print(f'Expected Returns : {Ep}')\n",
        "\n",
        "#Expected Volatility\n",
        "Vp = np.dot(weights.T,np.dot(Adj_close_log.cov() * 252, weights))\n",
        "Sp = np.sqrt(Vp)\n",
        "print(f'Expected Volatility : {Sp}')\n",
        "\n",
        "#Sharpe Ratio\n",
        "sharpe_ratio = (Ep / Sp)\n",
        "print(f'\\nSharpe Ratio : {sharpe_ratio}')"
      ],
      "execution_count": 0,
      "outputs": [
        {
          "output_type": "stream",
          "text": [
            "Weights : [0.14102156 0.35796222 0.27560979 0.22540643]\n",
            "Expected Returns : 0.2754671551419887\n",
            "Expected Volatility : 0.35377691022310825\n",
            "\n",
            "Sharpe Ratio : 0.7786465062636967\n"
          ],
          "name": "stdout"
        }
      ]
    },
    {
      "cell_type": "code",
      "metadata": {
        "id": "cllIaGkKGE-b",
        "colab_type": "code",
        "colab": {}
      },
      "source": [
        ""
      ],
      "execution_count": 0,
      "outputs": []
    }
  ]
}